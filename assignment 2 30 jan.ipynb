{
 "cells": [
  {
   "cell_type": "code",
   "execution_count": 15,
   "id": "d561dde1",
   "metadata": {
    "scrolled": true
   },
   "outputs": [
    {
     "name": "stdout",
     "output_type": "stream",
     "text": [
      "Enter Your percentage:60\n",
      "Your Grade is C\n"
     ]
    }
   ],
   "source": [
    "percentage = int(input(\"Enter Your percentage:\"))\n",
    "if percentage>100:\n",
    "    print(\"You have entered a invalid percentage\")\n",
    "elif percentage > 90 and percentage<=100:\n",
    "    print(\"Your Grade is A\")\n",
    "elif percentage > 80 and percentage <= 90:\n",
    "    print(\"Your Grade is B\")\n",
    "elif percentage >=60 and percentage <= 80:\n",
    "    print(\"Your Grade is C\")\n",
    "else:\n",
    "    print(\"Your Grade is D\")"
   ]
  },
  {
   "cell_type": "code",
   "execution_count": 16,
   "id": "4ece671b",
   "metadata": {},
   "outputs": [
    {
     "name": "stdout",
     "output_type": "stream",
     "text": [
      "Enter the Price in Rs:1400000\n",
      "Your tax will be 15%\n"
     ]
    }
   ],
   "source": [
    "price  =  int(input(\"Enter the Price in Rs:\"))\n",
    "if price >100000:\n",
    "    print(\"Your tax will be 15%\")\n",
    "elif price >50000 and price <=100000:\n",
    "    print(\"Your tax will be 10%\")\n",
    "elif price <=50000:\n",
    "    print(\"Your tax will be 5%\")\n"
   ]
  },
  {
   "cell_type": "code",
   "execution_count": 22,
   "id": "10999c1b",
   "metadata": {},
   "outputs": [
    {
     "name": "stdout",
     "output_type": "stream",
     "text": [
      "Enter Your City:agra\n",
      "Taj mahal\n"
     ]
    }
   ],
   "source": [
    "##Q3:\n",
    "city  =  input(\"Enter Your City:\")\n",
    "if city == \"delhi\" :\n",
    "    print(\"Red fort\")\n",
    "elif city ==\"agra\":\n",
    "    print(\"Taj mahal\")\n",
    "elif city == \"jaipur\":\n",
    "    print(\"jai mahal\")"
   ]
  },
  {
   "cell_type": "code",
   "execution_count": 10,
   "id": "614a00ee",
   "metadata": {},
   "outputs": [
    {
     "name": "stdout",
     "output_type": "stream",
     "text": [
      "Enter the Number:90\n"
     ]
    },
    {
     "data": {
      "text/plain": [
       "3"
      ]
     },
     "execution_count": 10,
     "metadata": {},
     "output_type": "execute_result"
    }
   ],
   "source": [
    "##Q4:\n",
    "n = int(input(\"Enter the Number:\"))\n",
    "count = 0\n",
    "while n>=10:\n",
    "    n= n/3\n",
    "    count = count+1\n",
    "count    \n"
   ]
  },
  {
   "cell_type": "markdown",
   "id": "e905e6be",
   "metadata": {},
   "source": [
    "##Q5 :\n",
    "A \"While\" Loop is used to repeat a specific block of code an unknown number of times, until a condition is met. For example, if we want to ask a user for a number between 1 and 10, we don't know how many times the user may enter a larger number, so we keep asking \"while the number is not between 1 and 10\".\n",
    "Why While Loops?\n",
    "Like all loops, \"while loops\" execute blocks of code over and over again.\n",
    "\n",
    "The advantage to a while loop is that it will go (repeat) as often as necessary to accomplish its goal.\n",
    "\n",
    "Generic Syntax:\n",
    "\n",
    "            \n",
    "  while ( condition is true )\n",
    "    do something\n",
    "    % Note: the \"something\" should eventually result\n",
    "    % in the condition being false\n",
    "  end\n",
    "            \n",
    "          \n",
    "Infinite loops:\n",
    "\n",
    "If the action inside the loop does not modify the variables being tested in the loops condition, the loop will \"run\" forever. "
   ]
  },
  {
   "cell_type": "code",
   "execution_count": 3,
   "id": "ca508ff3",
   "metadata": {},
   "outputs": [
    {
     "name": "stdout",
     "output_type": "stream",
     "text": [
      "*\n",
      "**\n",
      "***\n",
      "****\n",
      "*****\n",
      "\n",
      "\n",
      "*****\n",
      "****\n",
      "***\n",
      "**\n",
      "*\n",
      "    *\n",
      "   ***\n",
      "  *****\n",
      " *******\n",
      "*********\n",
      " *******\n",
      "  *****\n",
      "   ***\n",
      "    *\n"
     ]
    }
   ],
   "source": [
    "##Q6:\n",
    "# Pattern 1: Right Triangle\n",
    "i = 1\n",
    "while i <= 5:\n",
    "    j = 1\n",
    "    while j <= i:\n",
    "        print(\"*\", end=\"\")\n",
    "        j += 1\n",
    "    print(\"\")\n",
    "    i += 1\n",
    "print(\"\\n\")\n",
    "      \n",
    "# Pattern 2: Inverted Right Triangle\n",
    "i = 5\n",
    "while i >= 1:\n",
    "    j = 1\n",
    "    while j <= i:\n",
    "        print(\"*\", end=\"\")\n",
    "        j += 1\n",
    "    print(\"\")\n",
    "    i -= 1\n",
    "\n",
    "# Pattern 3: Diamond\n",
    "i = 1\n",
    "while i <= 5:\n",
    "    spaces = 5 - i\n",
    "    while spaces > 0:\n",
    "        print(\" \", end=\"\")\n",
    "        spaces -= 1\n",
    "    j = 1\n",
    "    while j <= (2 * i - 1):\n",
    "        print(\"*\", end=\"\")\n",
    "        j += 1\n",
    "    print(\"\")\n",
    "    i += 1\n",
    "\n",
    "i = 4\n",
    "while i >= 1:\n",
    "    spaces = 5 - i\n",
    "    while spaces > 0:\n",
    "        print(\" \", end=\"\")\n",
    "        spaces -= 1\n",
    "    j = 1\n",
    "    while j <= (2 * i - 1):\n",
    "        print(\"*\", end=\"\")\n",
    "        j += 1\n",
    "    print(\"\")\n",
    "    i -= 1"
   ]
  },
  {
   "cell_type": "code",
   "execution_count": 11,
   "id": "7083b394",
   "metadata": {},
   "outputs": [
    {
     "name": "stdout",
     "output_type": "stream",
     "text": [
      "10\n",
      "9\n",
      "8\n",
      "7\n",
      "6\n",
      "5\n",
      "4\n",
      "3\n",
      "2\n",
      "1\n"
     ]
    }
   ],
   "source": [
    "##Q7:\n",
    "i=10\n",
    "while i>=1:\n",
    "    print(i)\n",
    "    i = i-1"
   ]
  },
  {
   "cell_type": "code",
   "execution_count": null,
   "id": "7a59ebe9",
   "metadata": {},
   "outputs": [],
   "source": []
  }
 ],
 "metadata": {
  "kernelspec": {
   "display_name": "Python 3 (ipykernel)",
   "language": "python",
   "name": "python3"
  },
  "language_info": {
   "codemirror_mode": {
    "name": "ipython",
    "version": 3
   },
   "file_extension": ".py",
   "mimetype": "text/x-python",
   "name": "python",
   "nbconvert_exporter": "python",
   "pygments_lexer": "ipython3",
   "version": "3.9.13"
  }
 },
 "nbformat": 4,
 "nbformat_minor": 5
}
